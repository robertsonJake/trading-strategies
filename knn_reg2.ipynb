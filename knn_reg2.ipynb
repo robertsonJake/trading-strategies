{
 "cells": [
  {
   "cell_type": "code",
   "execution_count": 120,
   "metadata": {},
   "outputs": [
    {
     "name": "stdout",
     "output_type": "stream",
     "text": [
      "DIS\n"
     ]
    }
   ],
   "source": [
    "import pandas as pd\n",
    "import numpy as np\n",
    "import datetime\n",
    "import time\n",
    "import pandas_datareader.data as web\n",
    "import matplotlib.pyplot as pp\n",
    "%matplotlib inline\n",
    "\n",
    "end = datetime.datetime.today()\n",
    "start = end - datetime.timedelta(days=365*5)\n",
    "\n",
    "names = [#'AAPL',\n",
    "         #'MSFT']\n",
    "         #'V',\n",
    "         #'NVDA',\n",
    "         #'MCD',\n",
    "         'DIS'\n",
    "         #'SBUX',\n",
    "         #'BRK.B',\n",
    "         #'JNJ',\n",
    "         #'MA',\n",
    "         #'PEP',\n",
    "         #'NFLX',\n",
    "         #'WM',\n",
    "         #'GOOG',\n",
    "         #'AMZN',\n",
    "         #'BRKB',\n",
    "         #'WDAY',\n",
    "         #'CRM',\n",
    "         #'DATA',\n",
    "         #'AYX',\n",
    "         #'SQ',\n",
    "         #'CHD',\n",
    "         #'NEE',\n",
    "         #'VOO',\n",
    "         #'S&P500'\n",
    "        ]\n",
    "dfs = []\n",
    "for name in names:\n",
    "    print(name)\n",
    "    df = web.DataReader(name,'yahoo',start=start,end=end)\n",
    "    #df.set_index(df.index.levels[1],inplace=True)\n",
    "    df.sort_index(ascending=True,inplace=True)\n",
    "    df['Price'] = df['Adj Close']\n",
    "    df['Price'] = df['Price'].apply(lambda x: float(str(x).replace(',','')))\n",
    "    #df.columns = [name+' '+c for c in df.columns]\n",
    "    #df = df[name+' Price']\n",
    "    dfs.append(df)\n",
    "    #time.sleep(2)\n",
    "#df = pd.read_csv('AAPL.csv')\n",
    "\n",
    "data = dfs[0]\n",
    "for i in range(1,len(dfs)):\n",
    "    data = data.join(dfs[i])\n",
    "#table = data[[name+' Price' for name in names]].dropna()\n",
    "#returns = table.pct_change()\n",
    "#mean_returns = returns.mean()\n",
    "#cov_matrix = returns.cov()\n",
    "num_portfolios = 25000\n",
    "risk_free_rate = 0.035"
   ]
  },
  {
   "cell_type": "code",
   "execution_count": 121,
   "metadata": {},
   "outputs": [],
   "source": [
    "def stochastic(d):\n",
    "    dataframe = d.copy()\n",
    "    dataframe['%K'] = 100*(dataframe['Close'] - dataframe.rolling(14).min()['Low'])/(dataframe.rolling(14).max()['High'] - dataframe.rolling(14).min()['Low'])\n",
    "    dataframe['%D'] = dataframe.rolling(3).mean()['%K']\n",
    "    return dataframe.copy()\n",
    "\n",
    "def n_day_momentum(d,n):\n",
    "    dataframe = d.copy()\n",
    "    dataframe['% Change ' + str(n)] = ((dataframe - dataframe.shift(n)) / dataframe.shift(n))['Close']\n",
    "    return dataframe\n",
    "    \n",
    "def n_day_sma(d,n):\n",
    "    dataframe = d.copy()\n",
    "    dataframe['SMA ' + str(n)] = dataframe['Close'].rolling(n).mean()\n",
    "    return dataframe \n",
    "\n",
    "def n_day_sma_percent(d,n):\n",
    "    dataframe = d.copy()\n",
    "    dataframe['% SMA ' + str(n)] = dataframe['Close'] / dataframe['Close'].rolling(n).mean()\n",
    "    return dataframe\n",
    "\n",
    "def n_day_sma_momentum(d,n):\n",
    "    dataframe = d.copy()\n",
    "    dataframe['% Change SMA ' + str(n)] = (dataframe['Close'].rolling(n).mean() - dataframe['Close'].rolling(n).mean().shift(n)) / dataframe['Close'].rolling(n).mean()\n",
    "    return dataframe\n",
    "\n",
    "def n_day_bollinger(d,n):\n",
    "    dataframe = d.copy()\n",
    "    dataframe['Bollinger %B ' + str(n)] = (dataframe['Close'] - dataframe['Close'].rolling(n).mean()) / (2*dataframe['Close'].rolling(n).std())\n",
    "    return dataframe\n",
    "\n",
    "def price_change_ndaysout(d,n):\n",
    "    dataframe = d.copy()\n",
    "    dataframe[str(n) + ' day out price'] = 100*((dataframe['Close'].shift(-1*n) - dataframe['Close']) / dataframe['Close'])\n",
    "    return dataframe\n",
    "\n",
    "def n_day_slope(d,feature,n):\n",
    "    from sklearn.linear_model import LinearRegression\n",
    "    dataframe = d.copy()\n",
    "    dataframe[feature + ' ' + str(n) + ' day slope'] = dataframe[feature].rolling(n).apply(lambda x: LinearRegression().fit(np.arange(0,float(len(x))).reshape(-1,1),x.reshape(-1,1)).coef_[0])\n",
    "    return dataframe\n",
    "    \n",
    "    "
   ]
  },
  {
   "cell_type": "code",
   "execution_count": 122,
   "metadata": {},
   "outputs": [
    {
     "name": "stderr",
     "output_type": "stream",
     "text": [
      "C:\\Users\\Jake\\Anaconda2\\lib\\site-packages\\ipykernel_launcher.py:40: FutureWarning: Currently, 'apply' passes the values as ndarrays to the applied function. In the future, this will change to passing it as Series objects. You need to specify 'raw=True' to keep the current behaviour, and you can pass 'raw=False' to silence this warning\n"
     ]
    }
   ],
   "source": [
    "df = stochastic(df)\n",
    "#df = df[['%K','%D']]\n",
    "df.dropna(inplace=True)\n",
    "df['K/D'] = df['%K'] / df['%D']\n",
    "df['K/20'] = df['%K'] / 20.0\n",
    "df['K/80']  = df['%K'] / 80.0\n",
    "df['D/20'] = df['%K'] / 20.0\n",
    "df['D/80']  = df['%K'] / 80.0\n",
    "for col in ['%K','%D']:\n",
    "    for n in [3]:\n",
    "        df = n_day_slope(df,col,n)\n",
    "        \n",
    "df = n_day_bollinger(df,14)\n",
    "df.dropna(inplace=True)\n"
   ]
  },
  {
   "cell_type": "code",
   "execution_count": 123,
   "metadata": {},
   "outputs": [
    {
     "data": {
      "text/html": [
       "<div>\n",
       "<style scoped>\n",
       "    .dataframe tbody tr th:only-of-type {\n",
       "        vertical-align: middle;\n",
       "    }\n",
       "\n",
       "    .dataframe tbody tr th {\n",
       "        vertical-align: top;\n",
       "    }\n",
       "\n",
       "    .dataframe thead th {\n",
       "        text-align: right;\n",
       "    }\n",
       "</style>\n",
       "<table border=\"1\" class=\"dataframe\">\n",
       "  <thead>\n",
       "    <tr style=\"text-align: right;\">\n",
       "      <th></th>\n",
       "      <th>High</th>\n",
       "      <th>Low</th>\n",
       "      <th>Open</th>\n",
       "      <th>Close</th>\n",
       "      <th>Volume</th>\n",
       "      <th>Adj Close</th>\n",
       "      <th>Price</th>\n",
       "      <th>%K</th>\n",
       "      <th>%D</th>\n",
       "      <th>K/D</th>\n",
       "      <th>K/20</th>\n",
       "      <th>K/80</th>\n",
       "      <th>D/20</th>\n",
       "      <th>D/80</th>\n",
       "      <th>%K 3 day slope</th>\n",
       "      <th>%D 3 day slope</th>\n",
       "      <th>Bollinger %B 14</th>\n",
       "    </tr>\n",
       "    <tr>\n",
       "      <th>Date</th>\n",
       "      <th></th>\n",
       "      <th></th>\n",
       "      <th></th>\n",
       "      <th></th>\n",
       "      <th></th>\n",
       "      <th></th>\n",
       "      <th></th>\n",
       "      <th></th>\n",
       "      <th></th>\n",
       "      <th></th>\n",
       "      <th></th>\n",
       "      <th></th>\n",
       "      <th></th>\n",
       "      <th></th>\n",
       "      <th></th>\n",
       "      <th></th>\n",
       "      <th></th>\n",
       "    </tr>\n",
       "  </thead>\n",
       "  <tbody>\n",
       "    <tr>\n",
       "      <th>2014-05-23</th>\n",
       "      <td>83.360001</td>\n",
       "      <td>82.190002</td>\n",
       "      <td>82.190002</td>\n",
       "      <td>83.320000</td>\n",
       "      <td>4580300.0</td>\n",
       "      <td>77.617882</td>\n",
       "      <td>77.617882</td>\n",
       "      <td>99.036123</td>\n",
       "      <td>87.703705</td>\n",
       "      <td>1.129213</td>\n",
       "      <td>4.951806</td>\n",
       "      <td>1.237952</td>\n",
       "      <td>4.951806</td>\n",
       "      <td>1.237952</td>\n",
       "      <td>9.571672</td>\n",
       "      <td>12.087027</td>\n",
       "      <td>0.980364</td>\n",
       "    </tr>\n",
       "    <tr>\n",
       "      <th>2014-05-27</th>\n",
       "      <td>83.980003</td>\n",
       "      <td>83.320000</td>\n",
       "      <td>83.559998</td>\n",
       "      <td>83.739998</td>\n",
       "      <td>5197700.0</td>\n",
       "      <td>78.009132</td>\n",
       "      <td>78.009132</td>\n",
       "      <td>94.968443</td>\n",
       "      <td>92.728926</td>\n",
       "      <td>1.024151</td>\n",
       "      <td>4.748422</td>\n",
       "      <td>1.187106</td>\n",
       "      <td>4.748422</td>\n",
       "      <td>1.187106</td>\n",
       "      <td>5.393115</td>\n",
       "      <td>10.618293</td>\n",
       "      <td>0.936943</td>\n",
       "    </tr>\n",
       "    <tr>\n",
       "      <th>2014-05-28</th>\n",
       "      <td>83.900002</td>\n",
       "      <td>83.250000</td>\n",
       "      <td>83.800003</td>\n",
       "      <td>83.599998</td>\n",
       "      <td>4652100.0</td>\n",
       "      <td>77.878708</td>\n",
       "      <td>77.878708</td>\n",
       "      <td>92.033448</td>\n",
       "      <td>95.346004</td>\n",
       "      <td>0.965258</td>\n",
       "      <td>4.601672</td>\n",
       "      <td>1.150418</td>\n",
       "      <td>4.601672</td>\n",
       "      <td>1.150418</td>\n",
       "      <td>-3.501338</td>\n",
       "      <td>3.821150</td>\n",
       "      <td>0.743163</td>\n",
       "    </tr>\n",
       "    <tr>\n",
       "      <th>2014-05-29</th>\n",
       "      <td>84.089996</td>\n",
       "      <td>83.430000</td>\n",
       "      <td>83.919998</td>\n",
       "      <td>84.029999</td>\n",
       "      <td>6522000.0</td>\n",
       "      <td>78.279282</td>\n",
       "      <td>78.279282</td>\n",
       "      <td>98.770541</td>\n",
       "      <td>95.257477</td>\n",
       "      <td>1.036880</td>\n",
       "      <td>4.938527</td>\n",
       "      <td>1.234632</td>\n",
       "      <td>4.938527</td>\n",
       "      <td>1.234632</td>\n",
       "      <td>1.901049</td>\n",
       "      <td>1.264275</td>\n",
       "      <td>0.770197</td>\n",
       "    </tr>\n",
       "    <tr>\n",
       "      <th>2014-05-30</th>\n",
       "      <td>84.389999</td>\n",
       "      <td>83.620003</td>\n",
       "      <td>83.809998</td>\n",
       "      <td>84.010002</td>\n",
       "      <td>6352400.0</td>\n",
       "      <td>78.260651</td>\n",
       "      <td>78.260651</td>\n",
       "      <td>92.664146</td>\n",
       "      <td>94.489378</td>\n",
       "      <td>0.980683</td>\n",
       "      <td>4.633207</td>\n",
       "      <td>1.158302</td>\n",
       "      <td>4.633207</td>\n",
       "      <td>1.158302</td>\n",
       "      <td>0.315349</td>\n",
       "      <td>-0.428313</td>\n",
       "      <td>0.652588</td>\n",
       "    </tr>\n",
       "  </tbody>\n",
       "</table>\n",
       "</div>"
      ],
      "text/plain": [
       "                 High        Low       Open      Close     Volume  Adj Close  \\\n",
       "Date                                                                           \n",
       "2014-05-23  83.360001  82.190002  82.190002  83.320000  4580300.0  77.617882   \n",
       "2014-05-27  83.980003  83.320000  83.559998  83.739998  5197700.0  78.009132   \n",
       "2014-05-28  83.900002  83.250000  83.800003  83.599998  4652100.0  77.878708   \n",
       "2014-05-29  84.089996  83.430000  83.919998  84.029999  6522000.0  78.279282   \n",
       "2014-05-30  84.389999  83.620003  83.809998  84.010002  6352400.0  78.260651   \n",
       "\n",
       "                Price         %K         %D       K/D      K/20      K/80  \\\n",
       "Date                                                                        \n",
       "2014-05-23  77.617882  99.036123  87.703705  1.129213  4.951806  1.237952   \n",
       "2014-05-27  78.009132  94.968443  92.728926  1.024151  4.748422  1.187106   \n",
       "2014-05-28  77.878708  92.033448  95.346004  0.965258  4.601672  1.150418   \n",
       "2014-05-29  78.279282  98.770541  95.257477  1.036880  4.938527  1.234632   \n",
       "2014-05-30  78.260651  92.664146  94.489378  0.980683  4.633207  1.158302   \n",
       "\n",
       "                D/20      D/80  %K 3 day slope  %D 3 day slope  \\\n",
       "Date                                                             \n",
       "2014-05-23  4.951806  1.237952        9.571672       12.087027   \n",
       "2014-05-27  4.748422  1.187106        5.393115       10.618293   \n",
       "2014-05-28  4.601672  1.150418       -3.501338        3.821150   \n",
       "2014-05-29  4.938527  1.234632        1.901049        1.264275   \n",
       "2014-05-30  4.633207  1.158302        0.315349       -0.428313   \n",
       "\n",
       "            Bollinger %B 14  \n",
       "Date                         \n",
       "2014-05-23         0.980364  \n",
       "2014-05-27         0.936943  \n",
       "2014-05-28         0.743163  \n",
       "2014-05-29         0.770197  \n",
       "2014-05-30         0.652588  "
      ]
     },
     "execution_count": 123,
     "metadata": {},
     "output_type": "execute_result"
    }
   ],
   "source": [
    "df.head()"
   ]
  },
  {
   "cell_type": "code",
   "execution_count": 124,
   "metadata": {},
   "outputs": [],
   "source": [
    "from sklearn.neighbors import KNeighborsRegressor\n",
    "from sklearn import preprocessing\n",
    "from sklearn.model_selection import train_test_split\n"
   ]
  },
  {
   "cell_type": "code",
   "execution_count": 125,
   "metadata": {},
   "outputs": [],
   "source": [
    "l = 1\n",
    "df = price_change_ndaysout(df,l)\n",
    "df.dropna(inplace=True)\n",
    "X = df[df.columns[7:-1]]\n",
    "y = df[str(l) + ' day out price']"
   ]
  },
  {
   "cell_type": "code",
   "execution_count": 126,
   "metadata": {},
   "outputs": [
    {
     "data": {
      "text/plain": [
       "Index([u'%K', u'%D', u'K/D', u'K/20', u'K/80', u'D/20', u'D/80',\n",
       "       u'%K 3 day slope', u'%D 3 day slope', u'Bollinger %B 14'],\n",
       "      dtype='object')"
      ]
     },
     "execution_count": 126,
     "metadata": {},
     "output_type": "execute_result"
    }
   ],
   "source": [
    "X.columns"
   ]
  },
  {
   "cell_type": "code",
   "execution_count": 127,
   "metadata": {},
   "outputs": [],
   "source": [
    "X = preprocessing.scale(X)\n",
    "X_train, X_test, y_train, y_test = train_test_split(X, y, test_size=0.33)\n"
   ]
  },
  {
   "cell_type": "code",
   "execution_count": 128,
   "metadata": {},
   "outputs": [],
   "source": [
    "knn = KNeighborsRegressor(n_neighbors=10)\n",
    "knn.fit(X_train,y_train)\n",
    "y_pred = knn.predict(X_test)"
   ]
  },
  {
   "cell_type": "code",
   "execution_count": 129,
   "metadata": {},
   "outputs": [
    {
     "data": {
      "text/plain": [
       "[<matplotlib.lines.Line2D at 0x1884e2b0>]"
      ]
     },
     "execution_count": 129,
     "metadata": {},
     "output_type": "execute_result"
    },
    {
     "data": {
      "image/png": "[encoded data removed]",
      "text/plain": [
       "<Figure size 432x288 with 1 Axes>"
      ]
     },
     "metadata": {
      "needs_background": "light"
     },
     "output_type": "display_data"
    }
   ],
   "source": [
    "pp.plot(y_test - y_pred,'o')"
   ]
  },
  {
   "cell_type": "code",
   "execution_count": 130,
   "metadata": {},
   "outputs": [
    {
     "data": {
      "text/plain": [
       "0.8637295178310466"
      ]
     },
     "execution_count": 130,
     "metadata": {},
     "output_type": "execute_result"
    }
   ],
   "source": [
    "from sklearn.metrics import mean_absolute_error\n",
    "mean_absolute_error(y_test,y_pred)"
   ]
  },
  {
   "cell_type": "code",
   "execution_count": 131,
   "metadata": {},
   "outputs": [],
   "source": [
    "res = y_test.values * y_pred"
   ]
  },
  {
   "cell_type": "code",
   "execution_count": 132,
   "metadata": {},
   "outputs": [
    {
     "data": {
      "text/plain": [
       "0.5172413793103449"
      ]
     },
     "execution_count": 132,
     "metadata": {},
     "output_type": "execute_result"
    }
   ],
   "source": [
    "float(len([i for i in res if i>0])) / len(res)"
   ]
  },
  {
   "cell_type": "code",
   "execution_count": null,
   "metadata": {},
   "outputs": [],
   "source": []
  }
 ],
 "metadata": {
  "kernelspec": {
   "display_name": "Python 2",
   "language": "python",
   "name": "python2"
  },
  "language_info": {
   "codemirror_mode": {
    "name": "ipython",
    "version": 2
   },
   "file_extension": ".py",
   "mimetype": "text/x-python",
   "name": "python",
   "nbconvert_exporter": "python",
   "pygments_lexer": "ipython2",
   "version": "2.7.15"
  }
 },
 "nbformat": 4,
 "nbformat_minor": 2
}
